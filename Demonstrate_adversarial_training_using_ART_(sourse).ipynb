{
  "nbformat": 4,
  "nbformat_minor": 0,
  "metadata": {
    "colab": {
      "name": "Demonstrate adversarial training using ART (sourse).ipynb",
      "provenance": [],
      "authorship_tag": "ABX9TyPIwiIW1lHAMfT37GIuSOhg",
      "include_colab_link": true
    },
    "kernelspec": {
      "name": "python3",
      "display_name": "Python 3"
    },
    "language_info": {
      "name": "python"
    }
  },
  "cells": [
    {
      "cell_type": "markdown",
      "metadata": {
        "id": "view-in-github",
        "colab_type": "text"
      },
      "source": [
        "<a href=\"https://colab.research.google.com/github/OllTuMucT/Neural-network/blob/main/Demonstrate_adversarial_training_using_ART_(sourse).ipynb\" target=\"_parent\"><img src=\"https://colab.research.google.com/assets/colab-badge.svg\" alt=\"Open In Colab\"/></a>"
      ]
    },
    {
      "cell_type": "markdown",
      "source": [
        "[Source](https://github.com/Trusted-AI/adversarial-robustness-toolbox/blob/main/notebooks/adversarial_training_mnist.ipynb)"
      ],
      "metadata": {
        "id": "VU9I4lYNAoFA"
      }
    },
    {
      "cell_type": "code",
      "source": [
        "!pip install adversarial-robustness-toolbox"
      ],
      "metadata": {
        "colab": {
          "base_uri": "https://localhost:8080/"
        },
        "id": "647c5am78u9x",
        "outputId": "64dcb01b-3b05-4851-d4d2-f4c5a06b2013"
      },
      "execution_count": 2,
      "outputs": [
        {
          "output_type": "stream",
          "name": "stdout",
          "text": [
            "Looking in indexes: https://pypi.org/simple, https://us-python.pkg.dev/colab-wheels/public/simple/\n",
            "Collecting adversarial-robustness-toolbox\n",
            "  Downloading adversarial_robustness_toolbox-1.11.0-py3-none-any.whl (1.3 MB)\n",
            "\u001b[K     |████████████████████████████████| 1.3 MB 8.3 MB/s \n",
            "\u001b[?25hRequirement already satisfied: scikit-learn<1.1.0,>=0.22.2 in /usr/local/lib/python3.7/dist-packages (from adversarial-robustness-toolbox) (1.0.2)\n",
            "Requirement already satisfied: setuptools in /usr/local/lib/python3.7/dist-packages (from adversarial-robustness-toolbox) (57.4.0)\n",
            "Requirement already satisfied: numpy>=1.18.0 in /usr/local/lib/python3.7/dist-packages (from adversarial-robustness-toolbox) (1.21.6)\n",
            "Requirement already satisfied: six in /usr/local/lib/python3.7/dist-packages (from adversarial-robustness-toolbox) (1.15.0)\n",
            "Requirement already satisfied: tqdm in /usr/local/lib/python3.7/dist-packages (from adversarial-robustness-toolbox) (4.64.0)\n",
            "Collecting numba>=0.53.1\n",
            "  Downloading numba-0.55.2-cp37-cp37m-manylinux2014_x86_64.manylinux_2_17_x86_64.whl (3.3 MB)\n",
            "\u001b[K     |████████████████████████████████| 3.3 MB 48.7 MB/s \n",
            "\u001b[?25hRequirement already satisfied: scipy>=1.4.1 in /usr/local/lib/python3.7/dist-packages (from adversarial-robustness-toolbox) (1.7.3)\n",
            "Collecting llvmlite<0.39,>=0.38.0rc1\n",
            "  Downloading llvmlite-0.38.1-cp37-cp37m-manylinux_2_17_x86_64.manylinux2014_x86_64.whl (34.5 MB)\n",
            "\u001b[K     |████████████████████████████████| 34.5 MB 14 kB/s \n",
            "\u001b[?25hRequirement already satisfied: threadpoolctl>=2.0.0 in /usr/local/lib/python3.7/dist-packages (from scikit-learn<1.1.0,>=0.22.2->adversarial-robustness-toolbox) (3.1.0)\n",
            "Requirement already satisfied: joblib>=0.11 in /usr/local/lib/python3.7/dist-packages (from scikit-learn<1.1.0,>=0.22.2->adversarial-robustness-toolbox) (1.1.0)\n",
            "Installing collected packages: llvmlite, numba, adversarial-robustness-toolbox\n",
            "  Attempting uninstall: llvmlite\n",
            "    Found existing installation: llvmlite 0.34.0\n",
            "    Uninstalling llvmlite-0.34.0:\n",
            "      Successfully uninstalled llvmlite-0.34.0\n",
            "  Attempting uninstall: numba\n",
            "    Found existing installation: numba 0.51.2\n",
            "    Uninstalling numba-0.51.2:\n",
            "      Successfully uninstalled numba-0.51.2\n",
            "Successfully installed adversarial-robustness-toolbox-1.11.0 llvmlite-0.38.1 numba-0.55.2\n"
          ]
        }
      ]
    },
    {
      "cell_type": "code",
      "execution_count": 8,
      "metadata": {
        "id": "-tALarav8YyS"
      },
      "outputs": [],
      "source": [
        "import warnings\n",
        "warnings.filterwarnings('ignore')\n",
        "from keras.models import load_model\n",
        "import tensorflow as tf\n",
        "tf.compat.v1.disable_eager_execution()\n",
        "from art import config\n",
        "from art.utils import load_dataset, get_file\n",
        "from art.estimators.classification import KerasClassifier\n",
        "from art.attacks.evasion import FastGradientMethod\n",
        "from art.attacks.evasion import BasicIterativeMethod\n",
        "from art.defences.trainer import AdversarialTrainer\n",
        "\n",
        "import numpy as np\n",
        "\n",
        "%matplotlib inline\n",
        "import matplotlib.pyplot as plt"
      ]
    },
    {
      "cell_type": "code",
      "source": [
        "(x_train, y_train), (x_test, y_test), min_, max_ = load_dataset('mnist')"
      ],
      "metadata": {
        "id": "dWUFOZvl82i0"
      },
      "execution_count": 4,
      "outputs": []
    },
    {
      "cell_type": "code",
      "source": [
        "path = get_file('mnist_cnn_original.h5', extract=False, path=config.ART_DATA_PATH,\n",
        "                url='https://www.dropbox.com/s/p2nyzne9chcerid/mnist_cnn_original.h5?dl=1')\n",
        "classifier_model = load_model(path)\n",
        "classifier = KerasClassifier(clip_values=(min_, max_), model=classifier_model, use_logits=False)"
      ],
      "metadata": {
        "id": "C_-hMwtv87nw"
      },
      "execution_count": 9,
      "outputs": []
    },
    {
      "cell_type": "code",
      "source": [
        "classifier_model.summary()"
      ],
      "metadata": {
        "colab": {
          "base_uri": "https://localhost:8080/"
        },
        "id": "-H8k0xKd9xiE",
        "outputId": "400cb11f-8f9a-4ded-de90-fa1e4eef6308"
      },
      "execution_count": 10,
      "outputs": [
        {
          "output_type": "stream",
          "name": "stdout",
          "text": [
            "Model: \"sequential_3\"\n",
            "_________________________________________________________________\n",
            " Layer (type)                Output Shape              Param #   \n",
            "=================================================================\n",
            " conv2d_1 (Conv2D)           (None, 26, 26, 32)        320       \n",
            "                                                                 \n",
            " max_pooling2d_1 (MaxPooling  (None, 13, 13, 32)       0         \n",
            " 2D)                                                             \n",
            "                                                                 \n",
            " conv2d_2 (Conv2D)           (None, 11, 11, 64)        18496     \n",
            "                                                                 \n",
            " max_pooling2d_2 (MaxPooling  (None, 5, 5, 64)         0         \n",
            " 2D)                                                             \n",
            "                                                                 \n",
            " flatten_1 (Flatten)         (None, 1600)              0         \n",
            "                                                                 \n",
            " dense_1 (Dense)             (None, 128)               204928    \n",
            "                                                                 \n",
            " dense_2 (Dense)             (None, 10)                1290      \n",
            "                                                                 \n",
            "=================================================================\n",
            "Total params: 225,034\n",
            "Trainable params: 225,034\n",
            "Non-trainable params: 0\n",
            "_________________________________________________________________\n"
          ]
        }
      ]
    },
    {
      "cell_type": "code",
      "source": [
        "x_test_pred = np.argmax(classifier.predict(x_test[:100]), axis=1)\n",
        "nb_correct_pred = np.sum(x_test_pred == np.argmax(y_test[:100], axis=1))\n",
        "\n",
        "print(\"Original test data (first 100 images):\")\n",
        "print(\"Correctly classified: {}\".format(nb_correct_pred))\n",
        "print(\"Incorrectly classified: {}\".format(100-nb_correct_pred))"
      ],
      "metadata": {
        "colab": {
          "base_uri": "https://localhost:8080/"
        },
        "id": "3vnng3Hu9zXd",
        "outputId": "b91722ae-aa05-4262-e764-3f3e25d63eed"
      },
      "execution_count": 11,
      "outputs": [
        {
          "output_type": "stream",
          "name": "stdout",
          "text": [
            "Original test data (first 100 images):\n",
            "Correctly classified: 100\n",
            "Incorrectly classified: 0\n"
          ]
        }
      ]
    },
    {
      "cell_type": "code",
      "source": [
        "attacker = FastGradientMethod(classifier, eps=0.5)\n",
        "x_test_adv = attacker.generate(x_test[:100])"
      ],
      "metadata": {
        "id": "Dms_LuLP95qj"
      },
      "execution_count": 12,
      "outputs": []
    },
    {
      "cell_type": "code",
      "source": [
        "x_test_adv_pred = np.argmax(classifier.predict(x_test_adv), axis=1)\n",
        "nb_correct_adv_pred = np.sum(x_test_adv_pred == np.argmax(y_test[:100], axis=1))\n",
        "\n",
        "print(\"Adversarial test data (first 100 images):\")\n",
        "print(\"Correctly classified: {}\".format(nb_correct_adv_pred))\n",
        "print(\"Incorrectly classified: {}\".format(100-nb_correct_adv_pred))"
      ],
      "metadata": {
        "colab": {
          "base_uri": "https://localhost:8080/"
        },
        "id": "5EtQVMj1993X",
        "outputId": "0b869ae9-5c19-4f14-9b4e-108061c99655"
      },
      "execution_count": 13,
      "outputs": [
        {
          "output_type": "stream",
          "name": "stdout",
          "text": [
            "Adversarial test data (first 100 images):\n",
            "Correctly classified: 22\n",
            "Incorrectly classified: 78\n"
          ]
        }
      ]
    },
    {
      "cell_type": "code",
      "source": [
        "path = get_file('mnist_cnn_robust.h5', extract=False, path=config.ART_DATA_PATH,\n",
        "                url='https://www.dropbox.com/s/yutsncaniiy5uy8/mnist_cnn_robust.h5?dl=1')\n",
        "robust_classifier_model = load_model(path)\n",
        "robust_classifier = KerasClassifier(clip_values=(min_, max_), model=robust_classifier_model, use_logits=False)"
      ],
      "metadata": {
        "id": "BsAosVGA-LWw"
      },
      "execution_count": 15,
      "outputs": []
    },
    {
      "cell_type": "code",
      "source": [
        "attacks = BasicIterativeMethod(robust_classifier, eps=0.3, eps_step=0.01, max_iter=40)"
      ],
      "metadata": {
        "id": "ILkPKK-A-bRh"
      },
      "execution_count": 18,
      "outputs": []
    },
    {
      "cell_type": "code",
      "source": [
        "x_test_robust_pred = np.argmax(robust_classifier.predict(x_test[:100]), axis=1)\n",
        "nb_correct_robust_pred = np.sum(x_test_robust_pred == np.argmax(y_test[:100], axis=1))\n",
        "\n",
        "print(\"Original test data (first 100 images):\")\n",
        "print(\"Correctly classified: {}\".format(nb_correct_robust_pred))\n",
        "print(\"Incorrectly classified: {}\".format(100-nb_correct_robust_pred))"
      ],
      "metadata": {
        "colab": {
          "base_uri": "https://localhost:8080/"
        },
        "id": "JDP_8w8I-qBd",
        "outputId": "7d6bc51e-a615-4a5a-f1aa-82c5527197e3"
      },
      "execution_count": 19,
      "outputs": [
        {
          "output_type": "stream",
          "name": "stdout",
          "text": [
            "Original test data (first 100 images):\n",
            "Correctly classified: 99\n",
            "Incorrectly classified: 1\n"
          ]
        }
      ]
    },
    {
      "cell_type": "code",
      "source": [
        "attacker_robust = FastGradientMethod(robust_classifier, eps=0.5)\n",
        "x_test_adv_robust = attacker_robust.generate(x_test[:100])"
      ],
      "metadata": {
        "id": "0x2rIpTL-z4T"
      },
      "execution_count": 20,
      "outputs": []
    },
    {
      "cell_type": "code",
      "source": [
        "x_test_adv_robust_pred = np.argmax(robust_classifier.predict(x_test_adv_robust), axis=1)\n",
        "nb_correct_adv_robust_pred = np.sum(x_test_adv_robust_pred == np.argmax(y_test[:100], axis=1))\n",
        "\n",
        "print(\"Adversarial test data (first 100 images):\")\n",
        "print(\"Correctly classified: {}\".format(nb_correct_adv_robust_pred))\n",
        "print(\"Incorrectly classified: {}\".format(100-nb_correct_adv_robust_pred))"
      ],
      "metadata": {
        "colab": {
          "base_uri": "https://localhost:8080/"
        },
        "id": "qs02g4PS-7UO",
        "outputId": "36ddc3fd-a7e6-4c30-f7a2-024c4f1006e2"
      },
      "execution_count": 21,
      "outputs": [
        {
          "output_type": "stream",
          "name": "stdout",
          "text": [
            "Adversarial test data (first 100 images):\n",
            "Correctly classified: 79\n",
            "Incorrectly classified: 21\n"
          ]
        }
      ]
    },
    {
      "cell_type": "code",
      "source": [
        "eps_range = [0.01, 0.02, 0.03, 0.04, 0.05, 0.1, 0.2, 0.3, 0.4, 0.5, 0.6, 0.7, 0.8, 0.9]\n",
        "nb_correct_original = []\n",
        "nb_correct_robust = []\n",
        "\n",
        "for eps in eps_range:\n",
        "    attacker.set_params(**{'eps': eps})\n",
        "    attacker_robust.set_params(**{'eps': eps})\n",
        "    x_test_adv = attacker.generate(x_test[:100])\n",
        "    x_test_adv_robust = attacker_robust.generate(x_test[:100])\n",
        "    \n",
        "    x_test_adv_pred = np.argmax(classifier.predict(x_test_adv), axis=1)\n",
        "    nb_correct_original += [np.sum(x_test_adv_pred == np.argmax(y_test[:100], axis=1))]\n",
        "    \n",
        "    x_test_adv_robust_pred = np.argmax(robust_classifier.predict(x_test_adv_robust), axis=1)\n",
        "    nb_correct_robust += [np.sum(x_test_adv_robust_pred == np.argmax(y_test[:100], axis=1))]\n",
        "\n",
        "eps_range = [0] + eps_range\n",
        "nb_correct_original = [nb_correct_pred] + nb_correct_original\n",
        "nb_correct_robust = [nb_correct_robust_pred] + nb_correct_robust"
      ],
      "metadata": {
        "id": "buYYWvpl_HJH"
      },
      "execution_count": 22,
      "outputs": []
    },
    {
      "cell_type": "code",
      "source": [
        "fig, ax = plt.subplots()\n",
        "ax.plot(np.array(eps_range), np.array(nb_correct_original), 'b--', label='Original classifier')\n",
        "ax.plot(np.array(eps_range), np.array(nb_correct_robust), 'r--', label='Robust classifier')\n",
        "\n",
        "legend = ax.legend(loc='upper center', shadow=True, fontsize='large')\n",
        "legend.get_frame().set_facecolor('#00FFCC')\n",
        "\n",
        "plt.xlabel('Attack strength (eps)')\n",
        "plt.ylabel('Correct predictions')\n",
        "plt.show()"
      ],
      "metadata": {
        "colab": {
          "base_uri": "https://localhost:8080/",
          "height": 279
        },
        "id": "nrjRRWyS_OLe",
        "outputId": "7b185e80-901b-454b-daf8-b949a4bdf620"
      },
      "execution_count": 23,
      "outputs": [
        {
          "output_type": "display_data",
          "data": {
            "text/plain": [
              "<Figure size 432x288 with 1 Axes>"
            ],
            "image/png": "[encoded data removed]"
          },
          "metadata": {
            "needs_background": "light"
          }
        }
      ]
    }
  ]
}